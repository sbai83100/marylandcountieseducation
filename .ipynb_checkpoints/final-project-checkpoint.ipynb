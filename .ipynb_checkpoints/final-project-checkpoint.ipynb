{
 "cells": [
  {
   "cell_type": "markdown",
   "id": "extraordinary-somerset",
   "metadata": {},
   "source": [
    "# Analysis of Education in Maryland by Counties in 2018  \n",
    "**Sam Bai  \n",
    "CMSC 320 (0101) - Introduction to Data Science  \n",
    "José Manuel Calderón Trilla  \n",
    "Due Date: Monday, May 17th @ 4:00 PM**"
   ]
  },
  {
   "cell_type": "markdown",
   "id": "circular-madrid",
   "metadata": {},
   "source": [
    "## Introduction"
   ]
  },
  {
   "cell_type": "markdown",
   "id": "sorted-feelings",
   "metadata": {},
   "source": [
    "Society has long been rooted in inequality and unequal distribution of wealth. The reason why education is valued so much is because it attempts to \"level\" the playing field for people across different backgrounds. The theory is that a \"miracle\" individual who comes from a poor background can achieve the same level of success in life as someone who came from a wealthy background because of a good education. Many colleges and universities take great pride in accepting first-generation and BIPOC students because it increases their diversity. But what if the so-called \"equalizing\" education is not equal in itself?"
   ]
  },
  {
   "cell_type": "markdown",
   "id": "pharmaceutical-nicholas",
   "metadata": {},
   "source": [
    "For much of Maryland, local government typically is county government. Twenty-three counties and Baltimore City make up the twenty-four main local jurisdictions found in Maryland. (*Baltimore City, although a municipality, has been considered on a par with county jurisdictions since the adoption of the Maryland Constitution of 1851.*). To say that all twenty-four of these counties are equal in terms of income, quality of life, and workforce (to name a few) would be a gross statement. Differences in population, crime rate, and poverty (to name a few) exist throughout. All of these factors can influence how an individual is raised and taught to enter society as a self-sustaining citizen."
   ]
  },
  {
   "cell_type": "markdown",
   "id": "fallen-objective",
   "metadata": {},
   "source": [
    "In this project, I aim to analyze differences in education across the twenty-four counties in Maryland. Is education truly an \"equalizer\" for opportunity? Is education in any way related to how poor or wealthy a county is? Do some counties have a higher \"success rate\" then other counties?"
   ]
  },
  {
   "cell_type": "markdown",
   "id": "front-trailer",
   "metadata": {},
   "source": [
    "## The Data"
   ]
  },
  {
   "cell_type": "markdown",
   "id": "separate-cowboy",
   "metadata": {},
   "source": [
    "So how exactly do we attempt to answer some of these questions? We're going to be utilizing data courtesy of Maryland's Open Data Portal (https://opendata.maryland.gov/). The following datasets were all provided by the Maryland Department of Commerce:\n",
    "- Choose Maryland: Compare Counties - Demographics \n",
    "- Choose Maryland: Compare Counties - Education\n",
    "- Choose Maryland: Compare Counties - Quality of Life\n",
    "- Choose Maryland: Compare Counties - Taxes\n",
    "- Choose Maryland: Compare Counties - Workforce\n",
    "\n",
    "More information about these datasets can be found here:  \n",
    "https://opendata.maryland.gov/Demographic/Choose-Maryland-Compare-Counties-Demographics/pa7d-u6hs  \n",
    "https://opendata.maryland.gov/Education/Choose-Maryland-Compare-Counties-Education/63pe-mygy  \n",
    "https://opendata.maryland.gov/Housing/Choose-Maryland-Compare-Counties-Quality-Of-Life/dyym-bjv4  \n",
    "https://opendata.maryland.gov/Business-and-Economy/Choose-Maryland-Compare-Counties-Taxes/9rx9-sduc  \n",
    "https://opendata.maryland.gov/Business-and-Economy/Choose-Maryland-Compare-Counties-Workforce/q7q7-usgm  "
   ]
  },
  {
   "cell_type": "markdown",
   "id": "handled-indianapolis",
   "metadata": {},
   "source": [
    "### Libraries Used"
   ]
  },
  {
   "cell_type": "markdown",
   "id": "valid-brand",
   "metadata": {},
   "source": [
    "I used a wide array of libraries in this project. They are listed below:"
   ]
  },
  {
   "cell_type": "code",
   "execution_count": null,
   "id": "rolled-perception",
   "metadata": {},
   "outputs": [],
   "source": [
    "# Data parsing, cleaning, and tidying\n",
    "import numpy as np\n",
    "import pandas as pd\n",
    "\n",
    "# Data visualizations and graphs\n",
    "import matplotlib.pyplot as plt\n",
    "import seaborn as sns\n",
    "from scipy import stats\n",
    "\n",
    "# Linear regression modeling\n",
    "import sklearn\n",
    "from sklearn import linear_model\n",
    "from sklearn.linear_model import LinearRegression\n",
    "\n",
    "# Hypothesis testing\n",
    "import math\n",
    "from scipy.stats import t"
   ]
  },
  {
   "cell_type": "markdown",
   "id": "unnecessary-occasion",
   "metadata": {},
   "source": [
    "### Education"
   ]
  },
  {
   "cell_type": "markdown",
   "id": "criminal-associate",
   "metadata": {},
   "source": [
    "Let's take a look at our most important dataset in this project: education. Our goal is determine whether or not education is affected by other variables across different counties.\n",
    "\n",
    "We start off by importing the csv file. After a quick scan of our data, we notice that rows 24, 25, 26, 27 are not actually data in our dataset: they are just descriptions of where the data came from. While this is definitely useful and worth noting, we cannot have these in our data. Using `pandas.drop`, we can easily drop these rows.  \n",
    "We also notice that the data appears to be numerical, but Pandas read it as objects or strings. In order to better manipulate our data, we want to convert all of our data to numerical. This will help us determine relationships and correlations in the future. Simply iterating through each column of our dataset and invoking `pandas.to_numeric` on each column will achieve the result we want."
   ]
  },
  {
   "cell_type": "code",
   "execution_count": null,
   "id": "failing-french",
   "metadata": {
    "scrolled": true
   },
   "outputs": [],
   "source": [
    "education = pd.read_csv(\"Choose_Maryland___Compare_Counties_-_Education.csv\")\n",
    "\n",
    "# remove the rows that aren't actually data in our dataset\n",
    "education = education.drop([24, 25, 26, 27])\n",
    "\n",
    "# convert all data to numerical values\n",
    "for column in education.columns[1:]:\n",
    "    education[column] = pd.to_numeric(education[column])\n",
    "\n",
    "education"
   ]
  },
  {
   "cell_type": "markdown",
   "id": "secondary-taiwan",
   "metadata": {},
   "source": [
    "To get a sense of what our data looks like, let's create some plots. We create barplots for the annual number of public high school graduates and bachelor's degree attainment (%) across different counties in Maryland."
   ]
  },
  {
   "cell_type": "code",
   "execution_count": null,
   "id": "disciplinary-smell",
   "metadata": {},
   "outputs": [],
   "source": [
    "# barplot of annual number of public high school graduates in Maryland counties in 2018\n",
    "plt.title(\"Annual Number of Public High School Graduates in Maryland Counties, 2018\")\n",
    "sns.barplot(x=\"Annual Number of Public High School Graduates\", y=\"County\", data=education)\n",
    "plt.show()\n",
    "\n",
    "# distribution of annual number of public high school graduates\n",
    "print(\"Distribution of Annual Number of Public High School Graduates\")\n",
    "sns.displot(data=education, x=\"Annual Number of Public High School Graduates\", kind=\"kde\")\n",
    "plt.show()\n",
    "\n",
    "# barplot of bachelor's degree attainment rates in Maryland counties in 2018\n",
    "plt.title(\"Bachelor's Degree Attainment (%) in Maryland Counties, 2018\")\n",
    "sns.barplot(x=\"Bachelor's Degree Attainment (%)\", y=\"County\", data=education)\n",
    "plt.show()\n",
    "\n",
    "# distribution of bachelor's degree attainment rates\n",
    "print(\"Distribution of Bachelor's Degree Attainment (%)\")\n",
    "sns.displot(data=education, x=\"Bachelor's Degree Attainment (%)\", kind=\"kde\")\n",
    "plt.show()"
   ]
  },
  {
   "cell_type": "markdown",
   "id": "absent-effort",
   "metadata": {},
   "source": [
    "Based on our plots, we see that Montgomery County has a large number of public high school graduates (10000+). Montgomery County also has one of the highest bachelor's degree attainment percentage (~ 60%). Kent County has the least number of public high school graduates, while Somerset County has the lowest bachelor's degree attainment percentage (~ 15%).  \n",
    "\n",
    "This information, however, is not sufficient enough to conclude that Montgomery County has a \"better\" education program than other counties. Based on our distribution curves, we can see that our data is NOT normally distributed. Especially the distribution curve for bachelor's degree attainment, it has an incredibly weird shape that is not standard. Later, we will look at the population sizes of each county and the proportion of high school graduates to county population. Perhaps this will make our data more standardized."
   ]
  },
  {
   "cell_type": "markdown",
   "id": "continent-aluminum",
   "metadata": {},
   "source": [
    "A great plot to determine correlations and possible relationships between our variables is a heatmap. A heatmap shows the correlation coefficient between each pair of variables in our data. Positive values indicate a positive correlation between the two variables; negative values indicate a negative correlation between two variables. The closer the magnitude of the correlation coefficient is to 1, the stronger the correlation is.  \n",
    "\n",
    "We create a heatmap for our education dataset below."
   ]
  },
  {
   "cell_type": "code",
   "execution_count": null,
   "id": "supposed-principal",
   "metadata": {
    "scrolled": true
   },
   "outputs": [],
   "source": [
    "# heatmap of variables in our education dataset\n",
    "print(\"Correlation of Variables in Education\")\n",
    "plt.figure(figsize=(9,6))\n",
    "sns.heatmap(education.corr(), annot=True, cmap='Blues')\n",
    "plt.show()"
   ]
  },
  {
   "cell_type": "markdown",
   "id": "emerging-thailand",
   "metadata": {},
   "source": [
    "Darker shades of blue indicate a stronger positive correlation between two variables. For example, the correlation coefficient between 2-year college enrollment and annual number of public high school graduates is 0.95, which is a very strong positive correlation. Meanwhile, the correlation coefficient between the annual number of public high school graduates and the public school expenditures per pupil is 0.15, which is a very weak positive correlation."
   ]
  },
  {
   "cell_type": "markdown",
   "id": "exceptional-portrait",
   "metadata": {},
   "source": [
    "### Demographics"
   ]
  },
  {
   "cell_type": "markdown",
   "id": "functional-employment",
   "metadata": {},
   "source": [
    "The demographics of each county vary greatly between each other and can heavily influence variables in our other datasets. Let's take a look at county demographics.  \n",
    "\n",
    "Start off by importing the csv file. After a quick scan of our data, we notice, again, that rows 24, 25, 26, 27 are not actually data in our dataset: they are just descriptions of where the data came from. Using `pandas.drop`, we can easily drop these rows.  \n",
    "We also notice, again, that the data appears to be numerical, but Pandas read it as objects or strings. Simply iterating through each column of our dataset and invoking `pandas.to_numeric` on each column will achieve the result we want."
   ]
  },
  {
   "cell_type": "code",
   "execution_count": null,
   "id": "changing-columbus",
   "metadata": {
    "scrolled": true
   },
   "outputs": [],
   "source": [
    "demographics = pd.read_csv(\"Choose_Maryland___Compare_Counties_-_Demographics.csv\")\n",
    "\n",
    "# remove the rows that aren't actually data in our dataset\n",
    "demographics = demographics.drop([24, 25, 26, 27])\n",
    "\n",
    "# convert all data to numerical values\n",
    "for column in demographics.columns[1:]:\n",
    "    demographics[column] = pd.to_numeric(demographics[column])\n",
    "\n",
    "demographics"
   ]
  },
  {
   "cell_type": "markdown",
   "id": "addressed-queen",
   "metadata": {},
   "source": [
    "Earlier we looked at the annual number of public high school graduates and the bachelors degree attainment (%) across the twenty-four Maryland counties. However, the data was not particularly normal or standardized. A potential explanation for this could be that we did not take each county's population size into consideration.  \n",
    "\n",
    "Let's create ratios between the total county population to the variables. Merge the two datasets `demographics` and `education` together. `pandas.merge` allows us to achieve this very easily. We perform a left merge on the `county` column in our datasets."
   ]
  },
  {
   "cell_type": "code",
   "execution_count": null,
   "id": "regional-registration",
   "metadata": {
    "scrolled": true
   },
   "outputs": [],
   "source": [
    "# merge demographics and education datasets based on county column\n",
    "merged = demographics.merge(education, how=\"left\")\n",
    "# calculate ratios with respect to total county population\n",
    "merged[\"Ratio of Total Population to Annual Number of Public High School Graduates\"] = merged[\"Total Population, 2018\"]/merged[\"Annual Number of Public High School Graduates\"]\n",
    "merged[\"Ratio of Total Population to Bachelor's Degree Attainment (%)\"] = merged[\"Total Population, 2018\"]/merged[\"Bachelor's Degree Attainment (%)\"]\n",
    "merged"
   ]
  },
  {
   "cell_type": "markdown",
   "id": "novel-right",
   "metadata": {},
   "source": [
    "Now that we've created our ratios, let's use these to create our barplots and distribution plots."
   ]
  },
  {
   "cell_type": "code",
   "execution_count": null,
   "id": "based-confirmation",
   "metadata": {
    "scrolled": true
   },
   "outputs": [],
   "source": [
    "# barplot of ratios of total population to annual number of public high school graduates in Maryland counties in 2018\n",
    "plt.title(\"Ratios of Total Population to Annual Number of Public High School Graduates in Maryland Counties, 2018\")\n",
    "sns.barplot(x=\"Ratio of Total Population to Annual Number of Public High School Graduates\", y=\"County\", data=merged)\n",
    "plt.show()\n",
    "\n",
    "# distribution of ratios of total population to annual number of public high school graduates\n",
    "print(\"Distribution of Ratios of Total Population to Annual Number of Public High School Graduates\")\n",
    "sns.displot(data=merged, x=\"Ratio of Total Population to Annual Number of Public High School Graduates\", kind=\"kde\")\n",
    "plt.show()\n",
    "\n",
    "# barplot of ratios of total population to bachelor's degree attainment rates\n",
    "plt.title(\"Ratios of Total Population to Bachelor's Degree Attainment (%) in Maryland Counties, 2018\")\n",
    "sns.barplot(x=\"Ratio of Total Population to Bachelor's Degree Attainment (%)\", y=\"County\", data=merged)\n",
    "plt.show()\n",
    "\n",
    "# distribution of ratios of total population to bachelor's degree attainment rates\n",
    "print(\"Distribution of Ratios of Total Population to Bachelor's Degree Attainment (%)\")\n",
    "sns.displot(data=merged, x=\"Ratio of Total Population to Bachelor's Degree Attainment (%)\", kind=\"kde\")\n",
    "plt.show()"
   ]
  },
  {
   "cell_type": "markdown",
   "id": "turkish-responsibility",
   "metadata": {},
   "source": [
    "Based on our new plots, we can see that population does indeed have an impact on the annual number of public high school graduates and bachelor's degree attainment. While the data still may not be normall distributed or follow a standard bell curve, the distribution definitely looks better than before and more normal than before."
   ]
  },
  {
   "cell_type": "markdown",
   "id": "industrial-response",
   "metadata": {},
   "source": [
    "### Quality of Life"
   ]
  },
  {
   "cell_type": "markdown",
   "id": "representative-trust",
   "metadata": {},
   "source": [
    "How cheap or expensive it is to live in a particular county says a lot about that county's economy. Perhaps the quality of life could be a predictor of the county's education statistics.  \n",
    "\n",
    "Start by importing the csv file. Rows 24, 25, 26, 27 are descriptions of our variables again, so use `pandas.drop` to drop these rows. Convert all data to numerical values using `pandas.to_numeric` to help us with further analysis."
   ]
  },
  {
   "cell_type": "code",
   "execution_count": null,
   "id": "ongoing-departure",
   "metadata": {
    "scrolled": true
   },
   "outputs": [],
   "source": [
    "quality = pd.read_csv(\"Choose_Maryland___Compare_Counties_-_Quality_Of_Life.csv\")\n",
    "quality = quality.drop([24, 25, 26, 27])\n",
    "for column in quality.columns[1:]:\n",
    "    quality[column] = pd.to_numeric(quality[column])\n",
    "\n",
    "quality"
   ]
  },
  {
   "cell_type": "markdown",
   "id": "dress-stations",
   "metadata": {},
   "source": [
    "Let's visualize the cost of living index. A cost of living index allows us to compare what it costs to live in one county against another, revealing how far money will go in different counties. Scores are presented in relation to the national average cost of living index of 100."
   ]
  },
  {
   "cell_type": "code",
   "execution_count": null,
   "id": "protected-harrison",
   "metadata": {},
   "outputs": [],
   "source": [
    "plt.title(\"Cost of Living Index in Maryland Counties, 2018\")\n",
    "graph = sns.barplot(x=\"Cost of Living Index\", y=\"County\", data=quality)\n",
    "graph.axvline(100)\n",
    "plt.show()"
   ]
  },
  {
   "cell_type": "markdown",
   "id": "studied-antenna",
   "metadata": {},
   "source": [
    "For better understanding of our plot, I added a vertical line at 100 representing the national average cost of living index. Bars above this line indicate counties that have a higher cost of living index, while bars below this line indicate counties that have a lower cost of living index. For example, Allegany County has a lower cost of living than the national average, while Howard County has a higher cost of living than the national average. It is cheaper to live in Allegany County than in Howard County. Fifteen counties have cost of living indices that are higher than the national average, while nine are lower than the national average."
   ]
  },
  {
   "cell_type": "markdown",
   "id": "diagnostic-camcorder",
   "metadata": {},
   "source": [
    "### Taxes"
   ]
  },
  {
   "cell_type": "markdown",
   "id": "utility-eight",
   "metadata": {},
   "source": [
    "As much as everyone hates paying taxes, part of that money collected is used for public education funding. We'll also take a look at how taxes affect education statistics.\n",
    "\n",
    "Begin by importing the csv file. This time, rows 0, 1, 2, 3, and 4 are descriptions of our variables, so we use `pandas.drop` to drop these rows. Convert all data to numerical values using `pandas.to_numeric` as before to help us with further analysis."
   ]
  },
  {
   "cell_type": "code",
   "execution_count": null,
   "id": "perceived-brunswick",
   "metadata": {
    "scrolled": true
   },
   "outputs": [],
   "source": [
    "taxes = pd.read_csv(\"Choose_Maryland___Compare_Counties_-_Taxes.csv\")\n",
    "taxes = taxes.drop([0, 1, 2, 3, 4])\n",
    "for column in taxes.columns[1:]:\n",
    "    taxes[column] = pd.to_numeric(taxes[column])\n",
    "\n",
    "taxes "
   ]
  },
  {
   "cell_type": "code",
   "execution_count": null,
   "id": "unsigned-butter",
   "metadata": {
    "scrolled": true
   },
   "outputs": [],
   "source": [
    "plt.title(\"Combined State and County Real Property Tax Rate ($ per hundred) in Maryland Counties, 2018\")\n",
    "graph = sns.barplot(x=\"Combined State and County Real Property Tax Rate ($ per hundred)\", y=\"County\", data=taxes)\n",
    "plt.show()"
   ]
  },
  {
   "cell_type": "markdown",
   "id": "soviet-encoding",
   "metadata": {},
   "source": [
    "Most of the county tax rates are similar across the board. The most obvious exception is Baltimore City, with a combined tax rate of over 2%. Reasons why this may be are beyond the scope of this project, however. My guess would be that Baltimore City is not actually a county, but it is considered one because it is on par with county jurisdictions (as mentioned before)."
   ]
  },
  {
   "cell_type": "markdown",
   "id": "choice-olympus",
   "metadata": {},
   "source": [
    "### Workforce"
   ]
  },
  {
   "cell_type": "markdown",
   "id": "massive-suggestion",
   "metadata": {},
   "source": [
    "After an individual receives an education, it is expected that they enter the workforce having said education. Let's look at workforce statistics too.  \n",
    "\n",
    "Begin by importing the csv file. Rows 24, 25, 26, 27 are descriptions of our variables again, so use `pandas.drop` to drop these rows. Convert all data to numerical values using `pandas.to_numeric` to help us with further analysis."
   ]
  },
  {
   "cell_type": "code",
   "execution_count": null,
   "id": "matched-russia",
   "metadata": {
    "scrolled": true
   },
   "outputs": [],
   "source": [
    "workforce = pd.read_csv(\"Choose_Maryland___Compare_Counties_-_Workforce.csv\")\n",
    "workforce = workforce.drop([24, 25, 26, 27])\n",
    "for column in workforce.columns[1:]:\n",
    "    workforce[column] = pd.to_numeric(workforce[column])\n",
    "\n",
    "workforce"
   ]
  },
  {
   "cell_type": "code",
   "execution_count": null,
   "id": "helpful-grove",
   "metadata": {
    "scrolled": true
   },
   "outputs": [],
   "source": [
    "workforce[\"Percent Employed\"] = workforce[\"Employment (by place of residence)\"]/workforce[\"Labor Force\"]*100\n",
    "workforce[\"Percent Unemployed\"] = workforce[\"Unemployment\"]/workforce[\"Labor Force\"]*100\n",
    "workforce"
   ]
  },
  {
   "cell_type": "markdown",
   "id": "fallen-lotus",
   "metadata": {},
   "source": [
    "A lot of our variables are heavily related to each other. For example, the labor force of a county is the sum of that county's employment and unemployment. We can plot a heatmap to demonstrate a lot of these relationships."
   ]
  },
  {
   "cell_type": "code",
   "execution_count": null,
   "id": "expected-selection",
   "metadata": {
    "scrolled": true
   },
   "outputs": [],
   "source": [
    "plt.figure(figsize=(9,6))\n",
    "sns.heatmap(workforce.corr(), annot=True, cmap='Blues')\n",
    "plt.show()"
   ]
  },
  {
   "cell_type": "markdown",
   "id": "requested-advance",
   "metadata": {},
   "source": [
    "Notice that several correlation coefficients are very strong (as indicated by dark shades of blue)."
   ]
  },
  {
   "cell_type": "markdown",
   "id": "damaged-religion",
   "metadata": {},
   "source": [
    "Now let's take a look at the employment vs unemployment rates in each county. To accomplish this, we will create stacked percent barplot using `pandas.plot`. The implementation is below."
   ]
  },
  {
   "cell_type": "code",
   "execution_count": null,
   "id": "reduced-distinction",
   "metadata": {
    "scrolled": true
   },
   "outputs": [],
   "source": [
    "percentages = workforce[[\"County\", \"Percent Unemployed\", \"Percent Employed\"]]\n",
    "percentages.sort_values(by=\"Percent Unemployed\")\n",
    "percentages.plot(x=\"County\", kind=\"barh\", stacked=True, figsize=(9,6))\n",
    "plt.title(\"Unemployment and Employment Rates in Maryland Counties, 2018\")\n",
    "plt.xlabel(\"Percent\")\n",
    "plt.axvline(3.9)\n",
    "plt.show()"
   ]
  },
  {
   "cell_type": "markdown",
   "id": "gothic-nickel",
   "metadata": {},
   "source": [
    "Based on our percent stacked barplot, we can see that Worcester County has the greatest unemployment rate. Somerset County also has a high unemployment rate. The vertical line represents the national unemployment rate in 2018, which was 3.9%. 12 counties are strictly above the national average.\n",
    "\n",
    "(For more information about national unemployment rates, check out: https://www.bls.gov/opub/ted/2019/official-unemployment-rate-was-3-point-9-percent-in-december-2018-u-6-was-7-point-6-percent.htm?view_full#:~:text=The%20unemployment%20rate%20rose%20by,in%20the%20U.S.%20labor%20force.)"
   ]
  },
  {
   "cell_type": "markdown",
   "id": "effective-identification",
   "metadata": {},
   "source": [
    "## Possible Relationships"
   ]
  },
  {
   "cell_type": "markdown",
   "id": "confident-product",
   "metadata": {},
   "source": [
    "Now that we've imported, cleaned, tidied, and analyzed our data, let's take a look at possible relationships between our different datasets."
   ]
  },
  {
   "cell_type": "markdown",
   "id": "promising-station",
   "metadata": {},
   "source": [
    "### Education x Workforce"
   ]
  },
  {
   "cell_type": "markdown",
   "id": "noble-punishment",
   "metadata": {},
   "source": [
    "The idea is that education helps us attain job security in the workforce. We won't do a formal analysis of the relationship between education and workforce (we'll save this complexity of analysis for later!), but we at least want to demonstrate that there is a strong correlation between a good education and a good job in the workforce.  \n",
    "\n",
    "Merge the two datasets `education` and `workforce` together. `pandas.merge` allows us to achieve this very easily. We perform a left merge on the `county` column in our datasets."
   ]
  },
  {
   "cell_type": "code",
   "execution_count": null,
   "id": "usual-steering",
   "metadata": {
    "scrolled": true
   },
   "outputs": [],
   "source": [
    "merged = education.merge(workforce, how=\"left\")\n",
    "merged"
   ]
  },
  {
   "cell_type": "markdown",
   "id": "golden-harvey",
   "metadata": {},
   "source": [
    "Let's create another heatmap and see the correlations between all our pairs of variables in this merged dataset."
   ]
  },
  {
   "cell_type": "code",
   "execution_count": null,
   "id": "selective-iceland",
   "metadata": {
    "scrolled": false
   },
   "outputs": [],
   "source": [
    "plt.figure(figsize=(13.5,9))\n",
    "sns.heatmap(merged.corr(), annot=True, cmap='Reds')\n",
    "plt.show()"
   ]
  },
  {
   "cell_type": "markdown",
   "id": "swedish-democrat",
   "metadata": {},
   "source": [
    "Notable correlations include the following:\n",
    "- There is a *very strong* positive correlation between 2-year college enrollment and employment (by place of residence) (**0.92**). This could indicate that citizens earning an associate's degree in Maryland will likely contribute to the employment of that county.\n",
    "- There is a *relatively strong* positive correlation between bachelor's degree attainment (%) and average weekly wage. This could indicate that a county with a higher bachelor's degree attainment rate will have a greater average weekly wage (**0.69**).\n",
    "- There is a *very strong* positive correlation between 2-year college enrollment and number of business establishments (with 100 or more workers) (**0.95**, **0.93**). This could indicate that the more college graduates a county has, the more businesses established for these graduates to work for."
   ]
  },
  {
   "cell_type": "markdown",
   "id": "confirmed-vocabulary",
   "metadata": {},
   "source": [
    "Of course, there are more correlations and possible relationships between other variables in our dataset, but these were just some correlations that I thought were worth noting.  \n",
    "\n",
    "It's clear that there do seem to be relationships between education statistics and workforce statistics. How well of an education a student receives can influence their future prospects in the workforce as an adult."
   ]
  },
  {
   "cell_type": "markdown",
   "id": "collected-pennsylvania",
   "metadata": {},
   "source": [
    "### Demographics x Education"
   ]
  },
  {
   "cell_type": "markdown",
   "id": "opposed-breakfast",
   "metadata": {},
   "source": [
    "Let's circle back to our demographics and education merged dataset from before. We've already established that the annual number of public high school graduates is dependent on the population of that county. Are there any other correlations worth analyzing?  \n",
    "\n",
    "Merge the two datasets `demographics` and `education` together. `pandas.merge` allows us to achieve this very easily. We perform a left merge on the `county` column in our datasets."
   ]
  },
  {
   "cell_type": "code",
   "execution_count": null,
   "id": "colonial-crystal",
   "metadata": {
    "scrolled": true
   },
   "outputs": [],
   "source": [
    "merged = demographics.merge(education, how=\"left\")\n",
    "merged"
   ]
  },
  {
   "cell_type": "markdown",
   "id": "satellite-there",
   "metadata": {},
   "source": [
    "Creating a heatmap for our new merged dataset, we have the following:"
   ]
  },
  {
   "cell_type": "code",
   "execution_count": null,
   "id": "ordinary-trailer",
   "metadata": {
    "scrolled": false
   },
   "outputs": [],
   "source": [
    "plt.figure(figsize=(13.5,9))\n",
    "sns.heatmap(merged.corr(), annot=True, cmap='Reds')\n",
    "plt.show()"
   ]
  },
  {
   "cell_type": "markdown",
   "id": "particular-courtesy",
   "metadata": {},
   "source": [
    "One correlation that I thought was really worth emphasizing is per capita personal income and bachelor's degree attainment (%). Per capita personal income is the personal income of the county, earned by or on bealf of all of the persons who live in the area. There seems to be a very strong positive correlation between per capita personal income and bachelor's degree attainment rate (**0.92**). My interpretation of this correlation is that the higher the per capita personal income, the greater the bachelor's degree attainment rate. People with greater income levels can afford going to a 4-year college or university to attain a bachelor's degree."
   ]
  },
  {
   "cell_type": "markdown",
   "id": "atomic-optics",
   "metadata": {},
   "source": [
    "### Quality of Life x Education"
   ]
  },
  {
   "cell_type": "markdown",
   "id": "settled-stock",
   "metadata": {},
   "source": [
    "Does the quality of life affect the education an individual receives? Let's take a look.\n",
    "\n",
    "Merge the two datasets `education` and `quality` together. `pandas.merge` allows us to achieve this very easily. We perform a left merge on the `county` column in our datasets."
   ]
  },
  {
   "cell_type": "code",
   "execution_count": null,
   "id": "protecting-unemployment",
   "metadata": {
    "scrolled": true
   },
   "outputs": [],
   "source": [
    "merged = quality.merge(education, how=\"left\")\n",
    "merged"
   ]
  },
  {
   "cell_type": "markdown",
   "id": "whole-nicaragua",
   "metadata": {},
   "source": [
    "Creating our heatmap for this merged dataset:"
   ]
  },
  {
   "cell_type": "code",
   "execution_count": null,
   "id": "focal-builder",
   "metadata": {},
   "outputs": [],
   "source": [
    "plt.figure(figsize=(13.5,9))\n",
    "sns.heatmap(merged.corr(), annot=True, cmap='Reds')\n",
    "plt.show()"
   ]
  },
  {
   "cell_type": "markdown",
   "id": "opposite-episode",
   "metadata": {},
   "source": [
    "There seem to be relatively strong correlations between bachelor's degree attainment (%) and cost of living index/average sale price of a home/median sale price of a home. The relationship between these variables and bachelor's degree attainment rate is a little unclear to me. Is it that because the more bachelor's degree holders, the cost of living increases, or is it because the greater the cost of living, the more bachelor's degree holders there are? **A correlation alone doesn't give us enough information to describe what the relationship is between two variables! Further analysis is needed!** "
   ]
  },
  {
   "cell_type": "markdown",
   "id": "interesting-graphics",
   "metadata": {},
   "source": [
    "### Taxes x Education"
   ]
  },
  {
   "cell_type": "markdown",
   "id": "collaborative-shuttle",
   "metadata": {},
   "source": [
    "Finally, let's look at taxes. We already have a general idea of how taxes is related to education (taxes fund education!), but let's see if our data can support this claim."
   ]
  },
  {
   "cell_type": "code",
   "execution_count": null,
   "id": "arctic-consumer",
   "metadata": {
    "scrolled": true
   },
   "outputs": [],
   "source": [
    "merged = taxes.merge(education, how=\"left\")\n",
    "merged"
   ]
  },
  {
   "cell_type": "code",
   "execution_count": null,
   "id": "transparent-engineer",
   "metadata": {
    "scrolled": false
   },
   "outputs": [],
   "source": [
    "plt.figure(figsize=(13.5,9))\n",
    "sns.heatmap(merged.corr(), annot=True, cmap='Reds')\n",
    "plt.show()"
   ]
  },
  {
   "cell_type": "markdown",
   "id": "designed-helmet",
   "metadata": {},
   "source": [
    "The only correlation worth noting here is the relatively strong positive correlation between combined state and county real property tax rate and number of 4-year colleges and universities (**0.7**). It makes sense that more taxes correlates to more 4-year schools; these state taxes are used to fund public universities. The University of Maryland is one of them!"
   ]
  },
  {
   "cell_type": "markdown",
   "id": "curious-warning",
   "metadata": {},
   "source": [
    "## Linear Regression and Residual Analysis"
   ]
  },
  {
   "cell_type": "markdown",
   "id": "involved-alignment",
   "metadata": {},
   "source": [
    "Now that we've analyzed how variables in our datasets could be potentially related to one another, let's do some more complex analysis on our data. We're going to create a linear regression that will help determine the relationship between a dependent variable and an independent variable."
   ]
  },
  {
   "cell_type": "markdown",
   "id": "silver-tension",
   "metadata": {},
   "source": [
    "Out of all the correlations that we've seen, I felt that the correlation between per capita personal income and bachelor's degree attainment (%) was the most intriguing. As said before, there seems to be a very strong positive correlation between per capita personal income and bachelor's degree attainment rate (**0.92**). My interpretation of this correlation was that the higher the per capita personal income, the greater the bachelor's degree attainment rate. People with greater income levels can afford going to a 4-year college or university to attain a bachelor's degree.\n",
    "\n",
    "Let's see if our claim is correct. Merge the `demographics` and `education` datasets together using `pandas.merge`, merging on the `county` column."
   ]
  },
  {
   "cell_type": "code",
   "execution_count": null,
   "id": "designed-variance",
   "metadata": {
    "scrolled": true
   },
   "outputs": [],
   "source": [
    "merged = demographics.merge(education, how=\"left\")\n",
    "merged"
   ]
  },
  {
   "cell_type": "markdown",
   "id": "fabulous-poultry",
   "metadata": {},
   "source": [
    "For our linear regression, we're going to assign \"Per Capita Personal Income ($ Dollars)\" as our independent variable (predictor) and \"Bachelor's Degree Attainment (%)\" as our dependent variable (response)."
   ]
  },
  {
   "cell_type": "code",
   "execution_count": null,
   "id": "dutch-lender",
   "metadata": {},
   "outputs": [],
   "source": [
    "predictor = \"Per Capita Personal Income ($ Dollars)\"\n",
    "response = \"Bachelor's Degree Attainment (%)\"\n",
    "\n",
    "x = merged[predictor]\n",
    "y = merged[response]\n",
    "\n",
    "x2d = [[i] for i in x]\n",
    "y2d = [[i] for i in y]\n",
    "\n",
    "lm = linear_model.LinearRegression()\n",
    "lm.fit(x2d, y2d)"
   ]
  },
  {
   "cell_type": "markdown",
   "id": "photographic-silicon",
   "metadata": {},
   "source": [
    "Now that we've fitted our linear regression model, let's plot the data and the linear regression."
   ]
  },
  {
   "cell_type": "code",
   "execution_count": null,
   "id": "altered-sacrifice",
   "metadata": {
    "scrolled": true
   },
   "outputs": [],
   "source": [
    "plt.scatter(x2d, y2d, 1)\n",
    "plt.plot(x2d, lm.predict(x2d), color=\"red\")\n",
    "# plt.title(\"Annual Number of Public High School Graduates vs Total Spending\")\n",
    "plt.xlabel(predictor)\n",
    "plt.ylabel(response)\n",
    "print(lm.coef_[0][0])\n",
    "print(lm.intercept_[0])"
   ]
  },
  {
   "cell_type": "markdown",
   "id": "analyzed-little",
   "metadata": {},
   "source": [
    "Our linear regression is modeled by the following equation:"
   ]
  },
  {
   "cell_type": "markdown",
   "id": "arranged-logging",
   "metadata": {},
   "source": [
    "**Bachelor's Degree Attainment = $\\beta_0$ + $\\beta_1$ $\\times$ Per Capita Personal Income**\n",
    "\n",
    "$\\beta_0$ refers to our intercept, while $\\beta_1$ refers to our coefficient.  "
   ]
  },
  {
   "cell_type": "markdown",
   "id": "initial-might",
   "metadata": {},
   "source": [
    "For our linear regression equation, $\\beta_1$ = **0.0008148490069355127**, and $\\beta_0$ = **-14.320653900908262**."
   ]
  },
  {
   "cell_type": "markdown",
   "id": "innocent-defensive",
   "metadata": {},
   "source": [
    "At first glance, $\\beta_1$ = **0.0008148490069355127** seems quite small and very close to 0. We want to know if our coefficient is statistically significantly different from 0.\n",
    "\n",
    "To determine whether or not to reject the null hypothesis, I decided to employ the use of a hypothesis test about the coefficient of the linear regression. Scipy has their own collection of methods for hypothesis testing, but I wanted to have more control over the process. In addition, it's easy to just pass in values to a library method and receive a value without needing to know what goes behind the scenes. But by calculating the numbers ourselves, we remove the black box of the hypothesis test.  \n",
    "\n",
    "We will use the method of least squares for determining the best fitting straight line.  It is an objective and efficient method of determining this line. The least-squares criterion is that the line that best fits a set of data points is the one having the smallest possible sum of squared errors. We will need to calculate the following quantities using the following formulas:\n",
    "   - $S_{xx}$: the sum of the squares of the difference between each x and the mean x value\n",
    "       - $S_{xx} = \\Sigma x_i^2 - \\frac{(\\Sigma x_i)^2}{n}$\n",
    "   - $S_{yy}$: the sum of the squares of the difference between each y and the mean y value\n",
    "       - $S_{yy} = \\Sigma y_i^2 - \\frac{(\\Sigma y_i)^2}{n}$\n",
    "   - $S_{xy}$: the sum of the product of the difference between x its means and the difference between y and its mean\n",
    "       - $S_{xy} = \\Sigma x_iy_i - \\frac{(\\Sigma x_i)(\\Sigma y_i)}{n}$\n",
    "   - $SSE$: the residual sum of squares (or the sum of squares due to error)\n",
    "       - $SSE = S_{yy} - \\frac{(S_{xy})^2}{S_{xx}}$\n",
    "   - $s$: the residual standard deviation\n",
    "       - $s = \\sqrt{\\frac{SSE}{n-2}}$\n",
    "   - $SE\\beta_1$: the standard error of the slope\n",
    "       - $SE\\beta_1 = \\frac{s}{\\sqrt{S_{xx}}}$"
   ]
  },
  {
   "cell_type": "code",
   "execution_count": null,
   "id": "silent-cleveland",
   "metadata": {
    "scrolled": false
   },
   "outputs": [],
   "source": [
    "# x-bar: the sample mean of per capita personal income\n",
    "xbar = merged.describe().at[\"mean\", \"Per Capita Personal Income ($ Dollars)\"]\n",
    "# y-bar: the sample mean of bachelor's degree attainment\n",
    "ybar = merged.describe().at[\"mean\", \"Bachelor's Degree Attainment (%)\"]\n",
    "# n: the sample size\n",
    "n = merged.describe().at[\"count\", \"Per Capita Personal Income ($ Dollars)\"]\n",
    "print(f\"n: {n}\")\n",
    "\n",
    "# x_sum: the sum of all of our x values\n",
    "x_sum = sum(value for value in merged[\"Per Capita Personal Income ($ Dollars)\"])\n",
    "# x2 sum: the sum of all of our x values squared\n",
    "x2_sum = sum(value * value for index, value in merged[\"Per Capita Personal Income ($ Dollars)\"].items())\n",
    "\n",
    "# y_sum: the sum of all of our y values\n",
    "y_sum = sum(value for index, value in merged[\"Bachelor's Degree Attainment (%)\"].items())\n",
    "# y2_sum: the sum of all of our y values squared\n",
    "y2_sum = sum(value * value for index, value in merged[\"Bachelor's Degree Attainment (%)\"].items())\n",
    "\n",
    "xy = zip(merged[\"Per Capita Personal Income ($ Dollars)\"], merged[\"Bachelor's Degree Attainment (%)\"])\n",
    "# xy_sum: the sum of all of our x*y values\n",
    "xy_sum = sum(value1 * value2 for value1, value2 in xy)\n",
    "\n",
    "# sxx: the sum of the squares of the difference between each x and the mean x value\n",
    "sxx = x2_sum - (x_sum * x_sum) / n\n",
    "print(f\"Sxx: {sxx}\")\n",
    "\n",
    "# syy: the sum of the squares of the difference between each y and the mean y value\n",
    "syy = y2_sum - (y_sum * y_sum) / n\n",
    "print(f\"Syy: {syy}\")\n",
    "\n",
    "# sxy: the sum of the product of the difference between x its means and the difference between y and its mean\n",
    "sxy = xy_sum - (x_sum * y_sum) / n\n",
    "print(f\"Sxy: {sxy}\")\n",
    "\n",
    "# b1: the slope of our linear regression model equation\n",
    "b1 = sxy/sxx\n",
    "print(f\"b1: {b1}\")\n",
    "\n",
    "# b0: the intercept of our linear regression model equation\n",
    "b0 = ybar - b1*xbar\n",
    "print(f\"b0: {b0}\")\n",
    "\n",
    "# sse: the residual sum of squares\n",
    "sse = syy - (sxy * sxy) / sxx\n",
    "print(f\"SSE: {sse}\")\n",
    "\n",
    "# s: the residual standard deviation\n",
    "s = math.sqrt(sse / (n-2))\n",
    "print(f\"s: {s}\")\n",
    "\n",
    "# seb1: the standard error of the slope\n",
    "seb1 = s / math.sqrt(sxx)\n",
    "print(f\"SEB1: {seb1}\")\n",
    "\n",
    "t0 = lm.coef_[0][0] / seb1\n",
    "print(f\"t0: {t0}\")\n",
    "\n",
    "alpha = 0.05\n",
    "tc = t.ppf(1 - alpha/2, df=22)\n",
    "print(f\"tc: {tc}\")"
   ]
  },
  {
   "cell_type": "markdown",
   "id": "intensive-inside",
   "metadata": {},
   "source": [
    "1. Our null hypothesis $H_0$ is $\\beta_1$ $=$ **0** (indicating no relationship between per capita personal income and bachelor's degree attainment). Our alternative hypothesis $H_\\alpha$ is $\\beta_1$ $\\neq$ **0** (indicating a relationship between per capita personal income and bachelor's degree attainment).  \n",
    "2. We use a significance level of 5% ($\\alpha$ $=$ 0.05).\n",
    "3. To calculate our test statistic $t_0$, we use the following formula: $t_0 = \\frac{\\beta_1}{SE\\beta_1}$. Our test statistic is **10.827598838440823**.\n",
    "4. The critical value associated with this hypothesis test $t_c$ with a sample size $n = 24$ and degrees of freedom $df = n-2 = 22$ is **2.0738730679040147**.\n",
    "5. If our test statistic $t_0$ is greater than our critical value $t_c$, we reject the null hypothesis $H_0$. Because **10.827598838440823** is much greater than **2.0738730679040147**, we reject the null hypothesis.\n",
    "6. At a 0.05 significance level, there is sufficient evidence to support the claim that there is a relationship between per capita personal income and bachelor's degree attainment.  \n",
    "\n",
    "Note that the values `b1` and `b0` that we calculated above are the same values as the coefficient $\\beta_1$ and intercept $\\beta_0$ (respectively) that we obtained from our linear regression model from sklearn!"
   ]
  },
  {
   "cell_type": "markdown",
   "id": "settled-musical",
   "metadata": {},
   "source": [
    "Let's also check quantity, $R^2$, the proportion of variation in our response variable explained by the regression. The closer to 1 suggests that the regression model is quite useful for making predictions if all conditions are met.  The closer to 0 means the regression model is not very useful.  \n",
    "The formula for calculating $R^2$ is $\\frac{S{xy}^2}{S_{xx}S_{yy}}$\n",
    "\n",
    "We're also going to calculate the Pearson Correlation coefficient $r$, which tells us the strength and direction of our linear relationship.  \n",
    "The formula for calculating $r$ is $\\frac{S{xy}}{\\sqrt{S_{xx}S_{yy}}}$"
   ]
  },
  {
   "cell_type": "code",
   "execution_count": null,
   "id": "dirty-expense",
   "metadata": {
    "scrolled": true
   },
   "outputs": [],
   "source": [
    "print(f\"r2: {sxy*sxy / (sxx*syy)}\")\n",
    "print(f\"r: {sxy/math.sqrt(sxx*syy)}\")"
   ]
  },
  {
   "cell_type": "markdown",
   "id": "underlying-shelter",
   "metadata": {},
   "source": [
    "$R^2 = 0.8419959038427776$ is a relatively high value and pretty close to 1. About 84% of change in y is due to change in x, so it is reasonable to use the regression equation as a predictor.\n",
    "\n",
    "Note that the Pearson correlation coefficient $r=0.9176033477722155$ is the same correlation coefficient as the one provided to us in the heatmap!"
   ]
  },
  {
   "cell_type": "markdown",
   "id": "falling-graduate",
   "metadata": {},
   "source": [
    "Now that we've determined our regression equation is *reasonable* to use in our problem, we need to make sure that our assumptions are met. The assumptions are:\n",
    "1. The underlying relationship is linear\n",
    "2. Independence of errors\n",
    "3. Constant Variation\n",
    "4. Normal Distribution  \n",
    "\n",
    "We've already established a linear relationship based on our scatterplot. To check assumptions 2-4, we need to do a residual analysis. We need to look at our probability plot and boxplot of residuals to make sure our residuals are normally distributed."
   ]
  },
  {
   "cell_type": "markdown",
   "id": "social-dictionary",
   "metadata": {},
   "source": [
    "Let's start by calculating our predicted values and the corresponding residuals. We take our $\\beta_1$ and $\\beta_0$ to form our linear regression equation. I defined a function `f(x)` to represent this equation. To calculate the predicted values, simply pass in the column of predictor values (Per Capita Personal Income ($ Dollars)) to get a column of predicted values (Bachelor's Degree Attainment (%))."
   ]
  },
  {
   "cell_type": "code",
   "execution_count": null,
   "id": "legitimate-intervention",
   "metadata": {
    "scrolled": true
   },
   "outputs": [],
   "source": [
    "b1 = lm.coef_[0][0]\n",
    "b0 = lm.intercept_[0]\n",
    "\n",
    "def f(x):\n",
    "    return b0 + b1 * x\n",
    "\n",
    "residuals = merged\n",
    "residuals[\"Predicted\"] = f(residuals[predictor])\n",
    "residuals[\"Residual\"] = residuals[response] - f(residuals[predictor])\n",
    "residuals"
   ]
  },
  {
   "cell_type": "markdown",
   "id": "working-lawyer",
   "metadata": {},
   "source": [
    "We're going to look at the probability plot and box plot of our residuals to determine if they are normally distributed. `scipy.probplot` and `scipy.boxplot` can easily accomplish this:"
   ]
  },
  {
   "cell_type": "code",
   "execution_count": null,
   "id": "assumed-compilation",
   "metadata": {
    "scrolled": true
   },
   "outputs": [],
   "source": [
    "stats.probplot(x=residuals[\"Residual\"], plot=plt)\n",
    "plt.show()"
   ]
  },
  {
   "cell_type": "code",
   "execution_count": null,
   "id": "plain-client",
   "metadata": {
    "scrolled": false
   },
   "outputs": [],
   "source": [
    "print(\"Box Plot\")\n",
    "sns.boxplot(x=residuals[\"Residual\"])\n",
    "plt.show()"
   ]
  },
  {
   "cell_type": "markdown",
   "id": "impaired-copyright",
   "metadata": {},
   "source": [
    "Based on the probability plot, there seems to be no major deviations from normality.  \n",
    "Based on the box plot, there seems to be no outliers among our set of residuals.\n",
    "\n",
    "Therefore, it is reasonable to assume that our residuals are normally distributed."
   ]
  },
  {
   "cell_type": "markdown",
   "id": "missing-intro",
   "metadata": {},
   "source": [
    "Sure enough, when we plot the distribution of our residuals, we get the following curve:"
   ]
  },
  {
   "cell_type": "code",
   "execution_count": null,
   "id": "under-dublin",
   "metadata": {},
   "outputs": [],
   "source": [
    "print(\"Distribution\")\n",
    "sns.displot(data=merged, x=\"Residual\", kind=\"kde\")\n",
    "plt.show()"
   ]
  },
  {
   "cell_type": "markdown",
   "id": "exceptional-panel",
   "metadata": {},
   "source": [
    "Although the curve is not perfectly normal, it is actually quite close to a standard normal distribution bell curve. The mean is also centered close to 0, which is what we want for our residuals."
   ]
  },
  {
   "cell_type": "markdown",
   "id": "fatty-hotel",
   "metadata": {},
   "source": [
    "**After all of that, we can finally conclude that there exists a positive linear relationship between per capita personal income and bachelor's degree attainment rate!!!**\n",
    "\n",
    "In the context of our problem, as the per capita personal income increases, the bachelor's degree attainment rate increases. Students who come from a wealthier background are more likely to earn a bachelor's degree than students who come from less wealthier backgrounds."
   ]
  },
  {
   "cell_type": "markdown",
   "id": "colored-manchester",
   "metadata": {},
   "source": [
    "## Conclusion"
   ]
  },
  {
   "cell_type": "markdown",
   "id": "obvious-general",
   "metadata": {},
   "source": [
    "Analyzing how education is affected by demographics, quality of life, taxes, and workforce is no easy task. This project only analyzed one of possibly *many* relationships between different variables. However, we've learned some important and interesting insights by merging multiple datasets together and determining correlations between certain factors to explore meaningful relationships. I believe these insights are related to deeper patterns and relationships that could explain why education may not be the \"equalizer\" and instead may have conformed to inequality.\n",
    "\n",
    "We imported and cleaned our datasets, removing anything that does not belong and converting our data to numerical values. Then we analyzed our data, using data visualization tools to learn more about the data that we have and highlight possible relationships between certain variables. We then used that knowledge to explore in greater detail the relationship between two variables using a linear regression and residual analysis.  \n",
    "\n",
    "It's no secret that our society is riddled with inequality. But not many people realize the extent to which inequality continues to persist today. I hope that this project has shed more light on the gravity of this issue, and how we can better address inequality in our society."
   ]
  },
  {
   "cell_type": "markdown",
   "id": "experienced-effectiveness",
   "metadata": {},
   "source": [
    "## Additional Resources"
   ]
  },
  {
   "cell_type": "markdown",
   "id": "abroad-trauma",
   "metadata": {},
   "source": [
    "For more information on the following topics, feel free to check out the hyperlinks:  \n",
    "\n",
    "**Maryland**  \n",
    "[Maryland.gov](https://www.maryland.gov/Pages/default.aspx)  \n",
    "[Maryland State Department of Education](http://marylandpublicschools.org/Pages/default.aspx)  \n",
    "\n",
    "**Data Analysis**  \n",
    "[Distribution Plots](https://seaborn.pydata.org/generated/seaborn.displot.html)  \n",
    "[Heatmaps](https://seaborn.pydata.org/generated/seaborn.heatmap.html)\n",
    "\n",
    "**Linear Regression**  \n",
    "[Linear Regression](https://ml-cheatsheet.readthedocs.io/en/latest/linear_regression.html#:~:text=Linear%20Regression%20is%20a%20supervised,Simple%20regression)  \n",
    "[Least Squares Regression Line](https://stats.libretexts.org/Bookshelves/Introductory_Statistics/Book%3A_Introductory_Statistics_(Shafer_and_Zhang)/10%3A_Correlation_and_Regression/10.04%3A_The_Least_Squares_Regression_Line)\n",
    "\n",
    "**Hypothesis Testing**  \n",
    "[Probability Plots](https://docs.scipy.org/doc/scipy/reference/generated/scipy.stats.probplot.html)  \n",
    "[Box Plots](https://seaborn.pydata.org/generated/seaborn.boxplot.html)  \n",
    "[Student's t](https://docs.scipy.org/doc/scipy/reference/generated/scipy.stats.t.html)  \n"
   ]
  }
 ],
 "metadata": {
  "kernelspec": {
   "display_name": "Python 3",
   "language": "python",
   "name": "python3"
  },
  "language_info": {
   "codemirror_mode": {
    "name": "ipython",
    "version": 3
   },
   "file_extension": ".py",
   "mimetype": "text/x-python",
   "name": "python",
   "nbconvert_exporter": "python",
   "pygments_lexer": "ipython3",
   "version": "3.7.3"
  }
 },
 "nbformat": 4,
 "nbformat_minor": 5
}
